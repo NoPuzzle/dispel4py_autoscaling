{
 "cells": [
  {
   "cell_type": "code",
   "execution_count": 20,
   "metadata": {},
   "outputs": [
    {
     "name": "stdout",
     "output_type": "stream",
     "text": [
      "Extracted Idle Times:\n",
      "Total Idle Time per PE:\n",
      "**Overall Total Idle Time for All PEs: 1028.1778 seconds**\n",
      "Idle time summary saved to idle_uniform_28_idle_summary.csv\n"
     ]
    }
   ],
   "source": [
    "import pandas as pd\n",
    "import re\n",
    "import matplotlib.pyplot as plt\n",
    "from pathlib import Path\n",
    "\n",
    "\n",
    "# log_file_path = Path(\"idle_skew_28.log\") \n",
    "log_file_path = Path(\"idle_uniform_28.log\") \n",
    "\n",
    "\n",
    "if not log_file_path.is_file():\n",
    "    raise FileNotFoundError(f\"Log file not found at {log_file_path.resolve()}\")\n",
    "\n",
    "\n",
    "with log_file_path.open('r') as file:\n",
    "    log_lines = file.readlines()\n",
    "\n",
    "\n",
    "pe_ids = []\n",
    "idle_times = []\n",
    "\n",
    "\n",
    "pattern = re.compile(r\"PE\\s+(\\S+)\\s+total\\s+idle\\s+time:\\s+([\\d\\.]+)\\s+seconds\")\n",
    "\n",
    "\n",
    "for line in log_lines:\n",
    "    match = pattern.search(line)\n",
    "    if match:\n",
    "        pe_id = match.group(1) \n",
    "        idle_time = float(match.group(2)) \n",
    "        pe_ids.append(pe_id)\n",
    "        idle_times.append(idle_time)\n",
    "\n",
    "\n",
    "df_idle = pd.DataFrame({\n",
    "    'PE_ID': pe_ids,\n",
    "    'Idle_Time_Seconds': idle_times\n",
    "})\n",
    "\n",
    "\n",
    "print(\"Extracted Idle Times:\")\n",
    "total_idle_per_pe = df_idle.groupby('PE_ID')['Idle_Time_Seconds'].sum().reset_index()\n",
    "print(\"Total Idle Time per PE:\")\n",
    "overall_total_idle = total_idle_per_pe['Idle_Time_Seconds'].sum()\n",
    "print(f\"**Overall Total Idle Time for All PEs: {overall_total_idle:.4f} seconds**\")\n",
    "\n",
    "output_csv = log_file_path.stem + \"_idle_summary.csv\"\n",
    "total_idle_per_pe.to_csv(output_csv, index=False)\n",
    "print(f\"Idle time summary saved to {output_csv}\")\n"
   ]
  },
  {
   "cell_type": "code",
   "execution_count": null,
   "metadata": {},
   "outputs": [],
   "source": []
  }
 ],
 "metadata": {
  "kernelspec": {
   "display_name": "myplot",
   "language": "python",
   "name": "python3"
  },
  "language_info": {
   "codemirror_mode": {
    "name": "ipython",
    "version": 3
   },
   "file_extension": ".py",
   "mimetype": "text/x-python",
   "name": "python",
   "nbconvert_exporter": "python",
   "pygments_lexer": "ipython3",
   "version": "3.9.18"
  }
 },
 "nbformat": 4,
 "nbformat_minor": 2
}
